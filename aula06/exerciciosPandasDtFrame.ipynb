{
 "cells": [
  {
   "cell_type": "code",
   "execution_count": null,
   "metadata": {},
   "outputs": [],
   "source": [
    "import numpy as np\n",
    "import pandas as pd"
   ]
  },
  {
   "cell_type": "code",
   "execution_count": null,
   "metadata": {},
   "outputs": [],
   "source": [
    "matriz = np.random.randint(-100, 1000, (6, 6))\n",
    "\n",
    "tabela = pd.DataFrame(matriz, index =['valor1', 'valor2', 'valor3', 'valor4', 'valor5', 'valor6'],\n",
    "columns= ['a', 'b', 'c', 'd', 'e', 'f'])\n",
    "tabela"
   ]
  },
  {
   "cell_type": "code",
   "execution_count": null,
   "metadata": {},
   "outputs": [],
   "source": [
    "print(tabela.loc['valor2', 'd']) #acesso o valor via nome de linha e nome de coluna\n",
    "print(tabela.iloc[1, 4]) #acesso ao elemento via linha e coluna real(índice real)"
   ]
  },
  {
   "cell_type": "code",
   "execution_count": null,
   "metadata": {},
   "outputs": [],
   "source": [
    "print(tabela.loc['valor5',:])#slice para linha. Usa a vírgula para determinar que é apenas a linha ou coluna\n",
    "print(tabela.loc['valor5':])#slice por linha (5 até a última)"
   ]
  },
  {
   "cell_type": "code",
   "execution_count": null,
   "metadata": {},
   "outputs": [],
   "source": [
    "tabela.loc[:,'f']"
   ]
  },
  {
   "cell_type": "code",
   "execution_count": 54,
   "metadata": {},
   "outputs": [
    {
     "ename": "SyntaxError",
     "evalue": "(unicode error) 'unicodeescape' codec can't decode bytes in position 2-3: truncated \\UXXXXXXXX escape (1054517437.py, line 1)",
     "output_type": "error",
     "traceback": [
      "\u001b[1;36m  Input \u001b[1;32mIn [54]\u001b[1;36m\u001b[0m\n\u001b[1;33m    arquivo = pd.read_csv(\"C:\\Users\\Mirella\\Desktop\\YURI\\PYTHON E DADOS\\TecnicasProgramação1\\repositoriogit\\Projeto1\\train.csv\", sep=',')\u001b[0m\n\u001b[1;37m                                                                                                                               ^\u001b[0m\n\u001b[1;31mSyntaxError\u001b[0m\u001b[1;31m:\u001b[0m (unicode error) 'unicodeescape' codec can't decode bytes in position 2-3: truncated \\UXXXXXXXX escape\n"
     ]
    }
   ],
   "source": [
    "arquivo = pd.read_csv(\"C:\\Users\\Mirella\\Desktop\\YURI\\PYTHON E DADOS\\TecnicasProgramação1\\repositoriogit\\Projeto1\\train.csv\", sep=',')"
   ]
  }
 ],
 "metadata": {
  "kernelspec": {
   "display_name": "Python 3.10.5 64-bit",
   "language": "python",
   "name": "python3"
  },
  "language_info": {
   "codemirror_mode": {
    "name": "ipython",
    "version": 3
   },
   "file_extension": ".py",
   "mimetype": "text/x-python",
   "name": "python",
   "nbconvert_exporter": "python",
   "pygments_lexer": "ipython3",
   "version": "3.10.5"
  },
  "orig_nbformat": 4,
  "vscode": {
   "interpreter": {
    "hash": "ad9e475f728fbb7d35c8048c9e882298a1166193b4626fa68c86a42465c655a1"
   }
  }
 },
 "nbformat": 4,
 "nbformat_minor": 2
}
