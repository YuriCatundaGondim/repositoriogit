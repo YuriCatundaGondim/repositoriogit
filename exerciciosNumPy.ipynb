{
 "cells": [
  {
   "cell_type": "markdown",
   "metadata": {},
   "source": [
    "1. Importe numpy como 'np' e imprima o número da versão instalada no ambiente (local ou colab)."
   ]
  },
  {
   "cell_type": "code",
   "execution_count": 5,
   "metadata": {},
   "outputs": [
    {
     "data": {
      "text/plain": [
       "<module 'numpy.version' from 'c:\\\\Users\\\\Mirella\\\\AppData\\\\Local\\\\Programs\\\\Python\\\\Python310\\\\lib\\\\site-packages\\\\numpy\\\\version.py'>"
      ]
     },
     "execution_count": 5,
     "metadata": {},
     "output_type": "execute_result"
    }
   ],
   "source": [
    "import numpy as np\n",
    "np.version"
   ]
  },
  {
   "cell_type": "markdown",
   "metadata": {},
   "source": [
    "2. Crie um *array* 1D com números de 0 a 9 e imprima o resultado."
   ]
  },
  {
   "cell_type": "code",
   "execution_count": 6,
   "metadata": {},
   "outputs": [
    {
     "name": "stdout",
     "output_type": "stream",
     "text": [
      "[0 1 2 3 4 5 6 7 8 9]\n"
     ]
    },
    {
     "data": {
      "text/plain": [
       "array([0, 1, 2, 3, 4, 5, 6, 7, 8, 9])"
      ]
     },
     "execution_count": 6,
     "metadata": {},
     "output_type": "execute_result"
    }
   ],
   "source": [
    "a = np.array(range(10))\n",
    "print(a)\n",
    "a"
   ]
  },
  {
   "cell_type": "markdown",
   "metadata": {},
   "source": [
    "Crie uma matriz booleana de 3x3 e preencha os seus valores com 'True'. Imprima o resultado.\n",
    "Dica: Verifique o uso da função full na documentação do numpy."
   ]
  },
  {
   "cell_type": "code",
   "execution_count": 7,
   "metadata": {},
   "outputs": [
    {
     "name": "stdout",
     "output_type": "stream",
     "text": [
      "[[ True  True  True]\n",
      " [ True  True  True]\n",
      " [ True  True  True]]\n"
     ]
    },
    {
     "data": {
      "text/plain": [
       "array([[ True,  True,  True],\n",
       "       [ True,  True,  True],\n",
       "       [ True,  True,  True]])"
      ]
     },
     "execution_count": 7,
     "metadata": {},
     "output_type": "execute_result"
    }
   ],
   "source": [
    "matriz_bool = np.full ((3, 3), True)\n",
    "print(matriz_bool)\n",
    "matriz_bool"
   ]
  },
  {
   "cell_type": "markdown",
   "metadata": {},
   "source": [
    "4. Crie um *array* 1D como números inteiros (50 elementos) de 0 a 1000 e **extraia** apenas os números pares. Imprima o resultado."
   ]
  },
  {
   "cell_type": "code",
   "execution_count": 8,
   "metadata": {},
   "outputs": [
    {
     "name": "stdout",
     "output_type": "stream",
     "text": [
      "[ 18 670  73 447 580 835 897 855 270 763 860 453 376 901 455 914 523 547\n",
      " 779 317 143 767 874  58 727 362 372 325 436 582 421 993   0 357 441  62\n",
      " 862 106  18  73  62 604 222 877 267 341 509 376 783  37]\n",
      "[ 18 670 580 270 860 376 914 874  58 362 372 436 582   0  62 862 106  18\n",
      "  62 604 222 376]\n"
     ]
    }
   ],
   "source": [
    "num_int = np.random.randint(0, 1000, 50)\n",
    "print(num_int)\n",
    "pares = num_int[num_int%2==0]\n",
    "print(pares)"
   ]
  },
  {
   "cell_type": "markdown",
   "metadata": {},
   "source": [
    "5. Usando o *array* criando no exercício anterior, **substitua** todos os números ímpares maiores que 50 por -1 no *array* original. "
   ]
  },
  {
   "cell_type": "code",
   "execution_count": 9,
   "metadata": {},
   "outputs": [
    {
     "data": {
      "text/plain": [
       "array([670,  -1,  -1, 580,  -1,  -1,  -1, 270,  -1, 860,  -1, 376,  -1,\n",
       "        -1, 914,  -1,  -1,  -1,  -1,  -1,  -1, 874,  58,  -1, 362, 372,\n",
       "        -1, 436, 582,  -1,  -1,  -1,  -1,  62, 862, 106,  -1,  62, 604,\n",
       "       222,  -1,  -1,  -1,  -1, 376,  -1])"
      ]
     },
     "execution_count": 9,
     "metadata": {},
     "output_type": "execute_result"
    }
   ],
   "source": [
    "num50 = num_int[num_int > 50]\n",
    "num50[num50 %2 != 0] = -1\n",
    "num50"
   ]
  },
  {
   "cell_type": "markdown",
   "metadata": {},
   "source": [
    "6. Usando o *array* criando no exercício anterior, **substitua** todos os números ímpares com o valor -1 **sem** alterar o *array* original."
   ]
  },
  {
   "cell_type": "code",
   "execution_count": 16,
   "metadata": {},
   "outputs": [
    {
     "data": {
      "text/plain": [
       "array([ 18, 670,  -1,  -1, 580,  -1,  -1,  -1, 270,  -1, 860,  -1, 376,\n",
       "        -1,  -1, 914,  -1,  -1,  -1,  -1,  -1,  -1, 874,  58,  -1, 362,\n",
       "       372,  -1, 436, 582,  -1,  -1,   0,  -1,  -1,  62, 862, 106,  18,\n",
       "        -1,  62, 604, 222,  -1,  -1,  -1,  -1, 376,  -1,  -1])"
      ]
     },
     "execution_count": 16,
     "metadata": {},
     "output_type": "execute_result"
    }
   ],
   "source": [
    "num_int2 = num_int.copy()\n",
    "num_int2[num_int%2!=0] = -1\n",
    "num_int2"
   ]
  },
  {
   "cell_type": "markdown",
   "metadata": {},
   "source": [
    "7. Crie um *array* 1D com 100 valores de ponto flutuante (**float**), converta-o em uma matriz 2D com 10 linhas e 10 colunas."
   ]
  },
  {
   "cell_type": "code",
   "execution_count": 18,
   "metadata": {},
   "outputs": [
    {
     "data": {
      "text/plain": [
       "array([[53.63, 42.67, 42.83, 74.03, 26.93, 70.26, 51.12, 89.29, 17.17,\n",
       "        69.81],\n",
       "       [94.68, 37.13, 76.79, 56.46,  0.82, 47.68, 98.  , 80.96, 54.84,\n",
       "        63.71],\n",
       "       [57.27, 99.69, 69.18, 81.4 , 90.01, 90.65, 37.49,  8.43, 73.89,\n",
       "        83.48],\n",
       "       [ 3.03, 10.33, 27.05, 56.99, 11.17, 85.22, 48.91, 14.12, 92.8 ,\n",
       "        50.45],\n",
       "       [ 9.57, 70.03, 91.75, 92.4 , 57.4 , 57.38, 88.15, 68.99, 72.57,\n",
       "        92.46],\n",
       "       [89.55, 13.25, 48.39, 61.09, 68.55, 52.02, 63.44, 33.36, 29.25,\n",
       "        86.53],\n",
       "       [69.91, 37.16, 53.98, 24.92, 50.14,  4.51, 57.98, 43.27, 23.87,\n",
       "         5.04],\n",
       "       [66.43, 72.61, 86.63, 60.24, 18.08, 80.93, 38.04, 34.97, 23.32,\n",
       "        97.53],\n",
       "       [98.08, 57.97, 54.64, 28.87, 76.46, 54.06, 35.69, 54.47, 36.03,\n",
       "        65.17],\n",
       "       [66.15, 17.91, 78.74, 95.87, 89.86,  9.59, 99.78, 23.76, 94.15,\n",
       "        84.17]])"
      ]
     },
     "execution_count": 18,
     "metadata": {},
     "output_type": "execute_result"
    }
   ],
   "source": [
    "vetor_float = np.round((np.random.rand(100)*100), 2)\n",
    "vetor_float.reshape((10,10))"
   ]
  },
  {
   "cell_type": "markdown",
   "metadata": {},
   "source": [
    "Crie duas matrizes 2D de inteiros aleatórios (de 0 a 100) com dimensões 10x10. Empilhe-as horizontalmente.\n",
    "Dica: verique as funções hstack e concatenate na documentação do numpy"
   ]
  },
  {
   "cell_type": "code",
   "execution_count": 19,
   "metadata": {},
   "outputs": [
    {
     "name": "stdout",
     "output_type": "stream",
     "text": [
      "[[54 98 48  8  6 75 16 36  3 78 53 38 25 57 15  5 81 93 43 64]\n",
      " [36 40 76 93 48 32  1 82 45 17 83 73 72 41 73 83  2 52 79 26]\n",
      " [ 2 47 26 75 43 27 72 83 24 29 45  3 67 36 31 46 17 68  0  2]\n",
      " [ 4 17 55 71 98 15 85 21 36  9 34 71 43 93 58 68 42 63 76 63]\n",
      " [18 45 29 67 75 90 98 51  9  2 95 97 23 95 83 84 87 27 81 75]\n",
      " [74 86 29 30 16 43 45 27 19 17 38 54 35 90 73 98 62 58 99 83]\n",
      " [67 26 16 85 16 17 28 70 75  6 32 85 44 39 93 53  2 10 86 38]\n",
      " [78 69 68  7 31 16 98 31 88 30 48  4 44 83 69 61 96 43 26 70]\n",
      " [70 21 61 97 36 83 20 88 71 71 26 32 52 70  4 94 10 49 59 32]\n",
      " [34 92 37 67 18 53 97  2 36 51 75 87 95 39 70 57 73 33  3 67]]\n"
     ]
    }
   ],
   "source": [
    "matriz1 = np.random.randint(0, 100, (10,10))\n",
    "matriz2 = np.random.randint(0, 100, (10,10))\n",
    "vertical = np.vstack((matriz1, matriz2))\n",
    "horizontal = np.hstack((matriz1, matriz2))\n",
    "print(horizontal)\n"
   ]
  },
  {
   "cell_type": "markdown",
   "metadata": {},
   "source": [
    "Crie duas matrizes 2D de inteiros aleatórios (de 0 a 100) com dimensões 10x10. Empilhe-as verticalmente.\n",
    "Dica: verique as funções vstack e concatenate na documentação do numpy"
   ]
  },
  {
   "cell_type": "code",
   "execution_count": 13,
   "metadata": {},
   "outputs": [
    {
     "data": {
      "text/plain": [
       "array([[41, 90, 74, 92, 39,  8, 70, 36, 19, 39],\n",
       "       [50, 81, 59, 34, 86, 41,  3, 10, 38, 24],\n",
       "       [98, 31, 75,  5,  9, 95,  4, 52, 88,  4],\n",
       "       [55, 73, 25, 94, 43, 60, 39, 75, 91, 76],\n",
       "       [23, 69, 26, 34, 49, 50,  2,  5, 60, 16],\n",
       "       [28, 34, 42, 64, 57, 96, 46, 42, 50, 66],\n",
       "       [41, 22, 29, 57, 23, 59, 85, 42, 50, 27],\n",
       "       [56, 99, 96, 93, 42, 96, 87, 91, 66, 63],\n",
       "       [13, 20, 85, 60, 35, 21, 83, 97, 96, 39],\n",
       "       [58, 49, 91, 31, 77, 33, 98, 27, 59, 56],\n",
       "       [67,  2, 33, 42, 58, 69, 79, 96, 18, 96],\n",
       "       [93, 64, 26, 86, 34, 25, 39, 21, 76,  4],\n",
       "       [72, 50, 95, 60, 24, 47,  1, 35,  5, 46],\n",
       "       [40, 94, 42, 28, 12, 52, 27, 62, 49, 49],\n",
       "       [22, 74, 16, 71, 69, 89, 59, 20, 99, 47],\n",
       "       [58, 12, 37, 47, 31, 66, 13,  4, 74, 67],\n",
       "       [51, 60,  7,  3, 61, 51,  8, 46,  0, 52],\n",
       "       [90, 78,  2, 31, 79, 83, 38, 98, 12, 69],\n",
       "       [75, 90, 11, 27, 41, 10, 62, 62, 60, 29],\n",
       "       [30, 47,  2, 47, 65, 88, 58, 13, 88, 55]])"
      ]
     },
     "execution_count": 13,
     "metadata": {},
     "output_type": "execute_result"
    }
   ],
   "source": [
    "vertical"
   ]
  },
  {
   "cell_type": "markdown",
   "metadata": {},
   "source": [
    "Para ler arquivos em formato txt que estão em formato de \"tabelas\", podemos usar a função genfromtxt() do numpy. Esta função recebe como argumentos: caminho do arquivo txt (path local ou uma url); delimiter para separar cada valor seguindo algum critério; dtype para converter os valores recebidos em algum tipo de dado conhecido (exemplo: float) e; usecols em que é definido o cabeçalho das colunas lidas a partir do arquivo.\n",
    "\n",
    "Vejamos um exemplo de uso da função genfromtxt sobre a base de dados Iris."
   ]
  },
  {
   "cell_type": "code",
   "execution_count": 14,
   "metadata": {},
   "outputs": [],
   "source": [
    "import numpy as np\n",
    "# Caminho da base de dados é uma url disponível na internet (visite o link abaixo\n",
    "# pelo navegador para título de curiosidade :))\n",
    "url = 'https://archive.ics.uci.edu/ml/machine-learning-databases/iris/iris.data'\n",
    "# Lê os dados a partir do caminho passado e armazena em uma matriz 2D chamada iris_2d\n",
    "iris_2d = np.genfromtxt(url, delimiter=',', dtype='float', usecols=[0,1,2,3])"
   ]
  },
  {
   "cell_type": "code",
   "execution_count": 15,
   "metadata": {},
   "outputs": [
    {
     "data": {
      "text/plain": [
       "array([[5.1, 3.5, 1.4, 0.2],\n",
       "       [4.9, 3. , 1.4, 0.2],\n",
       "       [4.7, 3.2, 1.3, 0.2],\n",
       "       [4.6, 3.1, 1.5, 0.2],\n",
       "       [5. , 3.6, 1.4, 0.2],\n",
       "       [5.4, 3.9, 1.7, 0.4],\n",
       "       [4.6, 3.4, 1.4, 0.3],\n",
       "       [5. , 3.4, 1.5, 0.2],\n",
       "       [4.4, 2.9, 1.4, 0.2],\n",
       "       [4.9, 3.1, 1.5, 0.1],\n",
       "       [5.4, 3.7, 1.5, 0.2],\n",
       "       [4.8, 3.4, 1.6, 0.2],\n",
       "       [4.8, 3. , 1.4, 0.1],\n",
       "       [4.3, 3. , 1.1, 0.1],\n",
       "       [5.8, 4. , 1.2, 0.2],\n",
       "       [5.7, 4.4, 1.5, 0.4],\n",
       "       [5.4, 3.9, 1.3, 0.4],\n",
       "       [5.1, 3.5, 1.4, 0.3],\n",
       "       [5.7, 3.8, 1.7, 0.3],\n",
       "       [5.1, 3.8, 1.5, 0.3],\n",
       "       [5.4, 3.4, 1.7, 0.2],\n",
       "       [5.1, 3.7, 1.5, 0.4],\n",
       "       [4.6, 3.6, 1. , 0.2],\n",
       "       [5.1, 3.3, 1.7, 0.5],\n",
       "       [4.8, 3.4, 1.9, 0.2],\n",
       "       [5. , 3. , 1.6, 0.2],\n",
       "       [5. , 3.4, 1.6, 0.4],\n",
       "       [5.2, 3.5, 1.5, 0.2],\n",
       "       [5.2, 3.4, 1.4, 0.2],\n",
       "       [4.7, 3.2, 1.6, 0.2],\n",
       "       [4.8, 3.1, 1.6, 0.2],\n",
       "       [5.4, 3.4, 1.5, 0.4],\n",
       "       [5.2, 4.1, 1.5, 0.1],\n",
       "       [5.5, 4.2, 1.4, 0.2],\n",
       "       [4.9, 3.1, 1.5, 0.1],\n",
       "       [5. , 3.2, 1.2, 0.2],\n",
       "       [5.5, 3.5, 1.3, 0.2],\n",
       "       [4.9, 3.1, 1.5, 0.1],\n",
       "       [4.4, 3. , 1.3, 0.2],\n",
       "       [5.1, 3.4, 1.5, 0.2],\n",
       "       [5. , 3.5, 1.3, 0.3],\n",
       "       [4.5, 2.3, 1.3, 0.3],\n",
       "       [4.4, 3.2, 1.3, 0.2],\n",
       "       [5. , 3.5, 1.6, 0.6],\n",
       "       [5.1, 3.8, 1.9, 0.4],\n",
       "       [4.8, 3. , 1.4, 0.3],\n",
       "       [5.1, 3.8, 1.6, 0.2],\n",
       "       [4.6, 3.2, 1.4, 0.2],\n",
       "       [5.3, 3.7, 1.5, 0.2],\n",
       "       [5. , 3.3, 1.4, 0.2],\n",
       "       [7. , 3.2, 4.7, 1.4],\n",
       "       [6.4, 3.2, 4.5, 1.5],\n",
       "       [6.9, 3.1, 4.9, 1.5],\n",
       "       [5.5, 2.3, 4. , 1.3],\n",
       "       [6.5, 2.8, 4.6, 1.5],\n",
       "       [5.7, 2.8, 4.5, 1.3],\n",
       "       [6.3, 3.3, 4.7, 1.6],\n",
       "       [4.9, 2.4, 3.3, 1. ],\n",
       "       [6.6, 2.9, 4.6, 1.3],\n",
       "       [5.2, 2.7, 3.9, 1.4],\n",
       "       [5. , 2. , 3.5, 1. ],\n",
       "       [5.9, 3. , 4.2, 1.5],\n",
       "       [6. , 2.2, 4. , 1. ],\n",
       "       [6.1, 2.9, 4.7, 1.4],\n",
       "       [5.6, 2.9, 3.6, 1.3],\n",
       "       [6.7, 3.1, 4.4, 1.4],\n",
       "       [5.6, 3. , 4.5, 1.5],\n",
       "       [5.8, 2.7, 4.1, 1. ],\n",
       "       [6.2, 2.2, 4.5, 1.5],\n",
       "       [5.6, 2.5, 3.9, 1.1],\n",
       "       [5.9, 3.2, 4.8, 1.8],\n",
       "       [6.1, 2.8, 4. , 1.3],\n",
       "       [6.3, 2.5, 4.9, 1.5],\n",
       "       [6.1, 2.8, 4.7, 1.2],\n",
       "       [6.4, 2.9, 4.3, 1.3],\n",
       "       [6.6, 3. , 4.4, 1.4],\n",
       "       [6.8, 2.8, 4.8, 1.4],\n",
       "       [6.7, 3. , 5. , 1.7],\n",
       "       [6. , 2.9, 4.5, 1.5],\n",
       "       [5.7, 2.6, 3.5, 1. ],\n",
       "       [5.5, 2.4, 3.8, 1.1],\n",
       "       [5.5, 2.4, 3.7, 1. ],\n",
       "       [5.8, 2.7, 3.9, 1.2],\n",
       "       [6. , 2.7, 5.1, 1.6],\n",
       "       [5.4, 3. , 4.5, 1.5],\n",
       "       [6. , 3.4, 4.5, 1.6],\n",
       "       [6.7, 3.1, 4.7, 1.5],\n",
       "       [6.3, 2.3, 4.4, 1.3],\n",
       "       [5.6, 3. , 4.1, 1.3],\n",
       "       [5.5, 2.5, 4. , 1.3],\n",
       "       [5.5, 2.6, 4.4, 1.2],\n",
       "       [6.1, 3. , 4.6, 1.4],\n",
       "       [5.8, 2.6, 4. , 1.2],\n",
       "       [5. , 2.3, 3.3, 1. ],\n",
       "       [5.6, 2.7, 4.2, 1.3],\n",
       "       [5.7, 3. , 4.2, 1.2],\n",
       "       [5.7, 2.9, 4.2, 1.3],\n",
       "       [6.2, 2.9, 4.3, 1.3],\n",
       "       [5.1, 2.5, 3. , 1.1],\n",
       "       [5.7, 2.8, 4.1, 1.3],\n",
       "       [6.3, 3.3, 6. , 2.5],\n",
       "       [5.8, 2.7, 5.1, 1.9],\n",
       "       [7.1, 3. , 5.9, 2.1],\n",
       "       [6.3, 2.9, 5.6, 1.8],\n",
       "       [6.5, 3. , 5.8, 2.2],\n",
       "       [7.6, 3. , 6.6, 2.1],\n",
       "       [4.9, 2.5, 4.5, 1.7],\n",
       "       [7.3, 2.9, 6.3, 1.8],\n",
       "       [6.7, 2.5, 5.8, 1.8],\n",
       "       [7.2, 3.6, 6.1, 2.5],\n",
       "       [6.5, 3.2, 5.1, 2. ],\n",
       "       [6.4, 2.7, 5.3, 1.9],\n",
       "       [6.8, 3. , 5.5, 2.1],\n",
       "       [5.7, 2.5, 5. , 2. ],\n",
       "       [5.8, 2.8, 5.1, 2.4],\n",
       "       [6.4, 3.2, 5.3, 2.3],\n",
       "       [6.5, 3. , 5.5, 1.8],\n",
       "       [7.7, 3.8, 6.7, 2.2],\n",
       "       [7.7, 2.6, 6.9, 2.3],\n",
       "       [6. , 2.2, 5. , 1.5],\n",
       "       [6.9, 3.2, 5.7, 2.3],\n",
       "       [5.6, 2.8, 4.9, 2. ],\n",
       "       [7.7, 2.8, 6.7, 2. ],\n",
       "       [6.3, 2.7, 4.9, 1.8],\n",
       "       [6.7, 3.3, 5.7, 2.1],\n",
       "       [7.2, 3.2, 6. , 1.8],\n",
       "       [6.2, 2.8, 4.8, 1.8],\n",
       "       [6.1, 3. , 4.9, 1.8],\n",
       "       [6.4, 2.8, 5.6, 2.1],\n",
       "       [7.2, 3. , 5.8, 1.6],\n",
       "       [7.4, 2.8, 6.1, 1.9],\n",
       "       [7.9, 3.8, 6.4, 2. ],\n",
       "       [6.4, 2.8, 5.6, 2.2],\n",
       "       [6.3, 2.8, 5.1, 1.5],\n",
       "       [6.1, 2.6, 5.6, 1.4],\n",
       "       [7.7, 3. , 6.1, 2.3],\n",
       "       [6.3, 3.4, 5.6, 2.4],\n",
       "       [6.4, 3.1, 5.5, 1.8],\n",
       "       [6. , 3. , 4.8, 1.8],\n",
       "       [6.9, 3.1, 5.4, 2.1],\n",
       "       [6.7, 3.1, 5.6, 2.4],\n",
       "       [6.9, 3.1, 5.1, 2.3],\n",
       "       [5.8, 2.7, 5.1, 1.9],\n",
       "       [6.8, 3.2, 5.9, 2.3],\n",
       "       [6.7, 3.3, 5.7, 2.5],\n",
       "       [6.7, 3. , 5.2, 2.3],\n",
       "       [6.3, 2.5, 5. , 1.9],\n",
       "       [6.5, 3. , 5.2, 2. ],\n",
       "       [6.2, 3.4, 5.4, 2.3],\n",
       "       [5.9, 3. , 5.1, 1.8]])"
      ]
     },
     "execution_count": 15,
     "metadata": {},
     "output_type": "execute_result"
    }
   ],
   "source": [
    "# matriz 2D criada com os dados da base Iris\n",
    "iris_2d"
   ]
  },
  {
   "cell_type": "markdown",
   "metadata": {},
   "source": [
    "11. A partir dos dados lidos na matriz iris_2d, filtre as linhas que possuem (coluna 3) > 1.5 e (coluna 1) < 5.0."
   ]
  },
  {
   "cell_type": "code",
   "execution_count": null,
   "metadata": {},
   "outputs": [],
   "source": []
  },
  {
   "cell_type": "markdown",
   "metadata": {},
   "source": [
    "12. A partir dos dados lidos na matriz iris_2d, calcule a **média** e **desvio padrão** de cada coluna presente nos dados. Imprima o resultado."
   ]
  },
  {
   "cell_type": "code",
   "execution_count": null,
   "metadata": {},
   "outputs": [],
   "source": []
  },
  {
   "cell_type": "markdown",
   "metadata": {},
   "source": [
    "13. Crie um repositório no Github e versione todos os códigos que desenvolveram nesta lista de exercícios."
   ]
  }
 ],
 "metadata": {
  "kernelspec": {
   "display_name": "Python 3.10.5 64-bit",
   "language": "python",
   "name": "python3"
  },
  "language_info": {
   "codemirror_mode": {
    "name": "ipython",
    "version": 3
   },
   "file_extension": ".py",
   "mimetype": "text/x-python",
   "name": "python",
   "nbconvert_exporter": "python",
   "pygments_lexer": "ipython3",
   "version": "3.10.5"
  },
  "orig_nbformat": 4,
  "vscode": {
   "interpreter": {
    "hash": "ad9e475f728fbb7d35c8048c9e882298a1166193b4626fa68c86a42465c655a1"
   }
  }
 },
 "nbformat": 4,
 "nbformat_minor": 2
}
