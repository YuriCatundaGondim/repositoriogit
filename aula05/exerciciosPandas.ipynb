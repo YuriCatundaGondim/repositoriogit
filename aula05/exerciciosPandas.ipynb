{
 "cells": [
  {
   "cell_type": "markdown",
   "metadata": {},
   "source": [
    "### Exercícios\n",
    "1. Crie duas séries de números inteiros aleatórios (50 elementos cada) e as concatene-as em uma terceira série."
   ]
  },
  {
   "cell_type": "code",
   "execution_count": 46,
   "metadata": {},
   "outputs": [],
   "source": [
    "import pandas as pd\n",
    "import numpy as np"
   ]
  },
  {
   "cell_type": "code",
   "execution_count": 47,
   "metadata": {},
   "outputs": [
    {
     "data": {
      "text/plain": [
       "0     51\n",
       "1     92\n",
       "2     14\n",
       "3     71\n",
       "4     60\n",
       "      ..\n",
       "45    84\n",
       "46    79\n",
       "47    81\n",
       "48    52\n",
       "49    23\n",
       "Length: 100, dtype: int32"
      ]
     },
     "execution_count": 47,
     "metadata": {},
     "output_type": "execute_result"
    }
   ],
   "source": [
    "np.random.seed(42)\n",
    "\n",
    "s1 = pd.Series(np.random.randint(0, 100, 50))\n",
    "s2 = pd.Series(np.random.randint(0, 100, 50))\n",
    "s3 = pd.concat([s1, s2], axis=0)\n",
    "s3"
   ]
  },
  {
   "cell_type": "markdown",
   "metadata": {},
   "source": [
    "2. Crie uma Série a partir da lista abaixo:\n",
    "\n",
    "  `lista = [\"Pandas\", \"Série\", \"DataFrame\", \"Olá Mundo\", \"Python\"]`\n",
    "\n",
    "Transforme as palavras da série em **caixa baixa (lowercase)** e gere uma nova série com o resultado."
   ]
  },
  {
   "cell_type": "code",
   "execution_count": 48,
   "metadata": {},
   "outputs": [
    {
     "data": {
      "text/plain": [
       "0       pandas\n",
       "1        série\n",
       "2    dataframe\n",
       "3    olá mundo\n",
       "4       python\n",
       "dtype: object"
      ]
     },
     "execution_count": 48,
     "metadata": {},
     "output_type": "execute_result"
    }
   ],
   "source": [
    "lista = [\"Pandas\", \"Série\", \"DataFrame\", \"Olá Mundo\", \"Python\"]\n",
    "s1 = pd.Series(lista)\n",
    "s2 = s1.str.lower()\n",
    "s2"
   ]
  },
  {
   "cell_type": "markdown",
   "metadata": {},
   "source": [
    "3. Crie uma série de números reais gerados aleatoriamente, e **descreva** algumas estatísticas sobre estes números: média, máximo, mínimo, desvio padrão e etc. "
   ]
  },
  {
   "cell_type": "code",
   "execution_count": 49,
   "metadata": {},
   "outputs": [
    {
     "name": "stdout",
     "output_type": "stream",
     "text": [
      "count    100.000\n",
      "mean     474.790\n",
      "std      286.472\n",
      "min        2.000\n",
      "25%      243.500\n",
      "50%      463.500\n",
      "75%      709.750\n",
      "max      976.000\n",
      "dtype: float64\n"
     ]
    }
   ],
   "source": [
    "np.random.seed(42)\n",
    "num_reais = pd.Series(np.random.randint(1, 1000, 100))\n",
    "#print(f'A média é {num_reais.mean()},\\nO número máximo é {num_reais.max()},\\n O número mínimo é {num_reais.min()},\\n O desvio padrão é de {np.round(num_reais.std(), 3)}')\n",
    "info_serie = np.round(num_reais.describe(), 3)\n",
    "print(info_serie)"
   ]
  },
  {
   "cell_type": "markdown",
   "metadata": {},
   "source": [
    "4. Crie uma Série a partir da lista abaixo:\n",
    "\n",
    "  `lista = [\"Pandas\", \"Série\", \"DataFrame\", \"Olá Mundo\", \"Python\"]`\n",
    "\n",
    "retorne uma lista com o número de vogais que cada uma das palavras têm. Armazene o resultado em uma outra série.\n",
    "\n",
    "`Saída na série resultante: [2, 2, 4, 4, 1]`"
   ]
  },
  {
   "cell_type": "code",
   "execution_count": 50,
   "metadata": {},
   "outputs": [
    {
     "name": "stdout",
     "output_type": "stream",
     "text": [
      "0    2\n",
      "1    3\n",
      "2    4\n",
      "3    4\n",
      "4    1\n",
      "dtype: int64\n"
     ]
    }
   ],
   "source": [
    "lista = [\"Pandas\", \"Série\", \"DataFrame\", \"Olá Mundo\", \"Python\"]\n",
    "s1 = pd.Series(lista)\n",
    "\n",
    "def num_vogais(palavra):\n",
    "    cont = 0\n",
    "    for letra in palavra:\n",
    "        if letra in 'áaeéiíoóuúAÁEÉIÍOÓUÚ':\n",
    "            cont+=1\n",
    "    return cont\n",
    "\n",
    "serie_num_vogais = s1.apply(num_vogais)\n",
    "print(serie_num_vogais)"
   ]
  }
 ],
 "metadata": {
  "kernelspec": {
   "display_name": "Python 3.10.5 64-bit",
   "language": "python",
   "name": "python3"
  },
  "language_info": {
   "codemirror_mode": {
    "name": "ipython",
    "version": 3
   },
   "file_extension": ".py",
   "mimetype": "text/x-python",
   "name": "python",
   "nbconvert_exporter": "python",
   "pygments_lexer": "ipython3",
   "version": "3.10.5"
  },
  "orig_nbformat": 4,
  "vscode": {
   "interpreter": {
    "hash": "ad9e475f728fbb7d35c8048c9e882298a1166193b4626fa68c86a42465c655a1"
   }
  }
 },
 "nbformat": 4,
 "nbformat_minor": 2
}
